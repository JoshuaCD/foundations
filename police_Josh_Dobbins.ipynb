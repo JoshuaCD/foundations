{
 "cells": [
  {
   "cell_type": "markdown",
   "metadata": {},
   "source": [
    "## Police Killings\n",
    "\n",
    "The Guardian launched “The Counted,” an impressive interactive database of Americans killed by police since the start of the year. It started in 2015, but you can check the recent stats for 2016. We will explore the data by race, income and state."
   ]
  },
  {
   "cell_type": "markdown",
   "metadata": {},
   "source": [
    "### Assignment\n",
    "\n",
    "- Import the data and examine the head and columns\n",
    "- Get the total counts for each racial grouping\n",
    "- Find the relative % for each racial grouping\n",
    "- How do the killings compare with the overall US breakdown of population by race?"
   ]
  },
  {
   "cell_type": "code",
   "execution_count": 80,
   "metadata": {
    "scrolled": false
   },
   "outputs": [
    {
     "name": "stdout",
     "output_type": "stream",
     "text": [
      "Shape \n",
      " (467, 34) \n",
      "\n",
      "Data Types \n",
      " name                     object\n",
      "age                      object\n",
      "gender                   object\n",
      "raceethnicity            object\n",
      "month                    object\n",
      "day                       int64\n",
      "year                      int64\n",
      "streetaddress            object\n",
      "city                     object\n",
      "state                    object\n",
      "latitude                float64\n",
      "longitude               float64\n",
      "state_fp                  int64\n",
      "county_fp                 int64\n",
      "tract_ce                  int64\n",
      "geo_id                    int64\n",
      "county_id                 int64\n",
      "namelsad                 object\n",
      "lawenforcementagency     object\n",
      "cause                    object\n",
      "armed                    object\n",
      "pop                       int64\n",
      "share_white              object\n",
      "share_black              object\n",
      "share_hispanic           object\n",
      "p_income                 object\n",
      "h_income                float64\n",
      "county_income             int64\n",
      "comp_income             float64\n",
      "county_bucket           float64\n",
      "nat_bucket              float64\n",
      "pov                      object\n",
      "urate                   float64\n",
      "college                 float64\n",
      "dtype: object \n",
      "\n",
      "Head \n",
      "                  name age gender    raceethnicity     month  day  year  \\\n",
      "0  A'donte Washington  16   Male            Black  February   23  2015   \n",
      "1      Aaron Rutledge  27   Male            White     April    2  2015   \n",
      "2         Aaron Siler  26   Male            White     March   14  2015   \n",
      "3        Aaron Valdez  25   Male  Hispanic/Latino     March   11  2015   \n",
      "4        Adam Jovicic  29   Male            White     March   19  2015   \n",
      "\n",
      "            streetaddress          city state    ...     share_hispanic  \\\n",
      "0            Clearview Ln     Millbrook    AL    ...                5.6   \n",
      "1  300 block Iris Park Dr     Pineville    LA    ...                0.5   \n",
      "2    22nd Ave and 56th St       Kenosha    WI    ...               16.8   \n",
      "3       3000 Seminole Ave    South Gate    CA    ...               98.8   \n",
      "4          364 Hiwood Ave  Munroe Falls    OH    ...                1.7   \n",
      "\n",
      "   p_income  h_income  county_income  comp_income  county_bucket  nat_bucket  \\\n",
      "0     28375   51367.0          54766     0.937936            3.0         3.0   \n",
      "1     14678   27972.0          40930     0.683411            2.0         1.0   \n",
      "2     25286   45365.0          54930     0.825869            2.0         3.0   \n",
      "3     17194   48295.0          55909     0.863814            3.0         3.0   \n",
      "4     33954   68785.0          49669     1.384868            5.0         4.0   \n",
      "\n",
      "    pov     urate   college  \n",
      "0  14.1  0.097686  0.168510  \n",
      "1  28.8  0.065724  0.111402  \n",
      "2  14.6  0.166293  0.147312  \n",
      "3  11.7  0.124827  0.050133  \n",
      "4   1.9  0.063550  0.403954  \n",
      "\n",
      "[5 rows x 34 columns] \n",
      "\n",
      "Tail                    name age  gender    raceethnicity     month  day  year  \\\n",
      "462  William Chapman II  18    Male            Black     April   22  2015   \n",
      "463    William Dick III  28    Male  Native American     April    4  2015   \n",
      "464       William Poole  52    Male            White     March   16  2015   \n",
      "465   Yuvette Henderson  38  Female            Black  February    3  2015   \n",
      "466       Zaki Shinwary  48    Male          Unknown   January   16  2015   \n",
      "\n",
      "                                 streetaddress        city state    ...     \\\n",
      "462                        1098 Frederick Blvd  Portsmouth    VA    ...      \n",
      "463             Bureau of Indian Affairs Rd 66    Tonasket    WA    ...      \n",
      "464                             130 Wedowee Ln      Gaston    NC    ...      \n",
      "465                             3800 Hollis St     Oakland    CA    ...      \n",
      "466  Lake Arrowhead Ave and Great Salt Lake Dr     Fremont    CA    ...      \n",
      "\n",
      "     share_hispanic  p_income  h_income  county_income  comp_income  \\\n",
      "462               0     25262   27418.0          46166     0.593900   \n",
      "463            20.2     18470   35608.0          40368     0.882085   \n",
      "464             0.3     21175   38200.0          42017     0.909156   \n",
      "465            37.1     26971   63052.0          72112     0.874362   \n",
      "466            12.3     33590   88940.0          72112     1.233359   \n",
      "\n",
      "     county_bucket  nat_bucket   pov     urate   college  \n",
      "462            1.0         1.0  35.2  0.152047  0.120553  \n",
      "463            1.0         2.0  27.3  0.133650  0.174525  \n",
      "464            2.0         2.0  28.5  0.256150  0.072764  \n",
      "465            2.0         4.0  23.9  0.069601  0.396476  \n",
      "466            4.0         5.0   6.1  0.080912  0.435773  \n",
      "\n",
      "[5 rows x 34 columns] \n",
      "\n"
     ]
    }
   ],
   "source": [
    "%matplotlib inline\n",
    "import numpy as np\n",
    "import pandas as pd\n",
    "import matplotlib as plt\n",
    "\n",
    "police_killings = pd.read_csv(\"police_killings.csv\", encoding='ISO-8859-1')\n",
    "\n",
    "print(\"Shape \\n\",police_killings.shape,\"\\n\")\n",
    "\n",
    "print(\"Data Types \\n\",police_killings.dtypes,\"\\n\")\n",
    "\n",
    "print(\"Head \\n\",police_killings.head(5),\"\\n\")\n",
    "\n",
    "print(\"Tail\",police_killings.tail(5),\"\\n\")\n"
   ]
  },
  {
   "cell_type": "markdown",
   "metadata": {},
   "source": [
    "### Assignment\n",
    "\n",
    "- Graph the killings by race using a bar chart. Make sure to label the graph and axes\n",
    "- Graph the killings by \"p_income\" using a histogram with different bin amounts (remember to remove any \"-\" values)\n",
    "- Calculate the median \"p_income\""
   ]
  },
  {
   "cell_type": "code",
   "execution_count": 60,
   "metadata": {},
   "outputs": [
    {
     "name": "stdout",
     "output_type": "stream",
     "text": [
      "Meidan p_income:\n"
     ]
    },
    {
     "data": {
      "text/plain": [
       "22348.0"
      ]
     },
     "execution_count": 60,
     "metadata": {},
     "output_type": "execute_result"
    },
    {
     "data": {
      "image/png": "[encoded data removed]",
      "text/plain": [
       "<matplotlib.figure.Figure at 0x28c57248ba8>"
      ]
     },
     "metadata": {},
     "output_type": "display_data"
    }
   ],
   "source": [
    "police_killings.loc[:,'raceethnicity'].value_counts().plot.bar(title='Police Killings by Race').set(xlabel='Race', ylabel='Police Killings')\n",
    "\n",
    "histdata = pd.to_numeric(police_killings.loc[:,'p_income'], errors='coerce')\n",
    "\n",
    "histdata.plot.hist()\n",
    "\n",
    "print('Meidan p_income')\n",
    "histdata.median()\n"
   ]
  },
  {
   "cell_type": "markdown",
   "metadata": {},
   "source": [
    "### Assignment\n",
    "\n",
    "- Find the total killings per each state\n",
    "- Create a new dataframe and remove any \"-\" from the following columns \"share_white\", \"share_black\" and \"share_hispanic\" \n",
    "- Convert the values in those columns to float types\n",
    "- Find the mean of 'pop', 'county_income' and those 3 columns for the following subsets\n",
    "    \n",
    "    lowest_states = [\"CT\", \"PA\", \"IA\", \"NY\", \"MA\", \"NH\", \"ME\", \"IL\", \"OH\", \"WI\"]\n",
    "    \n",
    "    highest_states = [\"OK\", \"AZ\", \"NE\", \"HI\", \"AK\", \"ID\", \"NM\", \"LA\", \"CO\", \"DE\"]"
   ]
  },
  {
   "cell_type": "code",
   "execution_count": 107,
   "metadata": {},
   "outputs": [
    {
     "name": "stdout",
     "output_type": "stream",
     "text": [
      "CA    74\n",
      "TX    46\n",
      "FL    29\n",
      "AZ    25\n",
      "OK    22\n",
      "GA    16\n",
      "NY    14\n",
      "CO    12\n",
      "NJ    11\n",
      "IL    11\n",
      "LA    11\n",
      "WA    11\n",
      "MO    10\n",
      "NC    10\n",
      "MD    10\n",
      "OH    10\n",
      "MI     9\n",
      "SC     9\n",
      "VA     9\n",
      "AL     8\n",
      "OR     8\n",
      "IN     8\n",
      "KY     7\n",
      "PA     7\n",
      "MN     6\n",
      "NE     6\n",
      "MS     6\n",
      "TN     6\n",
      "KS     6\n",
      "UT     5\n",
      "MA     5\n",
      "WI     5\n",
      "NM     5\n",
      "AR     4\n",
      "ID     4\n",
      "HI     4\n",
      "NV     3\n",
      "WV     2\n",
      "MT     2\n",
      "IA     2\n",
      "DE     2\n",
      "AK     2\n",
      "NH     1\n",
      "DC     1\n",
      "ME     1\n",
      "CT     1\n",
      "WY     1\n",
      "Name: state, dtype: int64\n"
     ]
    },
    {
     "data": {
      "image/png": "[encoded data removed]",
      "text/plain": [
       "<matplotlib.figure.Figure at 0x28c57804c88>"
      ]
     },
     "metadata": {},
     "output_type": "display_data"
    }
   ],
   "source": [
    "print(police_killings.loc[:,'state'].value_counts())\n",
    "\n",
    "police_killings.loc[:,'state'].value_counts().plot.bar(title='Police Killings by state').set(xlabel='State', ylabel='Police Killings')\n",
    "\n",
    "police_killings_new = police_killings\n",
    "\n",
    "police_killings_new[['share_white']] = pd.to_numeric(police_killings_new['share_white'], errors='coerce')\n",
    "police_killings_new[['share_black']] = pd.to_numeric(police_killings_new['share_black'], errors='coerce')\n",
    "police_killings_new[['share_hispanic']] = pd.to_numeric(police_killings_new['share_hispanic'], errors='coerce')\n",
    "\n",
    "police_killings_new = police_killings_new.dropna()\n",
    "\n"
   ]
  },
  {
   "cell_type": "code",
   "execution_count": 109,
   "metadata": {},
   "outputs": [
    {
     "data": {
      "text/plain": [
       "pop                4264.833333\n",
       "county_income     55083.666667\n",
       "share_white          61.303704\n",
       "share_black          20.107407\n",
       "share_hispanic       13.335185\n",
       "dtype: float64"
      ]
     },
     "execution_count": 109,
     "metadata": {},
     "output_type": "execute_result"
    }
   ],
   "source": [
    "#police_killings_new[police_killings_new['state'].isin([['CT']])]\n",
    "states1 = police_killings_new[police_killings_new['state'].isin([\"CT\", \"PA\", \"IA\", \"NY\", \"MA\", \"NH\", \"ME\", \"IL\", \"OH\", \"WI\"])]\n",
    "\n",
    "\n",
    "states1[['pop', 'county_income', 'share_white', 'share_black', 'share_hispanic']].mean()"
   ]
  },
  {
   "cell_type": "code",
   "execution_count": null,
   "metadata": {
    "collapsed": true
   },
   "outputs": [],
   "source": []
  }
 ],
 "metadata": {
  "anaconda-cloud": {},
  "kernelspec": {
   "display_name": "Python 3",
   "language": "python",
   "name": "python3"
  },
  "language_info": {
   "codemirror_mode": {
    "name": "ipython",
    "version": 3
   },
   "file_extension": ".py",
   "mimetype": "text/x-python",
   "name": "python",
   "nbconvert_exporter": "python",
   "pygments_lexer": "ipython3",
   "version": "3.6.1"
  }
 },
 "nbformat": 4,
 "nbformat_minor": 1
}
