{
 "cells": [
  {
   "cell_type": "markdown",
   "metadata": {},
   "source": [
    "## US Gun Deaths Data Set\n",
    "\n",
    "[Original article by FiveThirtyEight about Guns](http://fivethirtyeight.com/features/gun-deaths/)\n",
    "\n",
    "The data set contains cleaned gun-death data from the CDC for 2012-2014."
   ]
  },
  {
   "cell_type": "markdown",
   "metadata": {},
   "source": [
    "### Assignment\n",
    "\n",
    "- Import the csv\n",
    "- Read it into a list\n",
    "- Preview the first 5 entries"
   ]
  },
  {
   "cell_type": "code",
   "execution_count": 1,
   "metadata": {},
   "outputs": [
    {
     "data": {
      "text/plain": [
       "[['',\n",
       "  'year',\n",
       "  'month',\n",
       "  'intent',\n",
       "  'police',\n",
       "  'sex',\n",
       "  'age',\n",
       "  'race',\n",
       "  'hispanic',\n",
       "  'place',\n",
       "  'education'],\n",
       " ['1',\n",
       "  '2012',\n",
       "  '01',\n",
       "  'Suicide',\n",
       "  '0',\n",
       "  'M',\n",
       "  '34',\n",
       "  'Asian/Pacific Islander',\n",
       "  '100',\n",
       "  'Home',\n",
       "  '4'],\n",
       " ['2', '2012', '01', 'Suicide', '0', 'F', '21', 'White', '100', 'Street', '3'],\n",
       " ['3',\n",
       "  '2012',\n",
       "  '01',\n",
       "  'Suicide',\n",
       "  '0',\n",
       "  'M',\n",
       "  '60',\n",
       "  'White',\n",
       "  '100',\n",
       "  'Other specified',\n",
       "  '4'],\n",
       " ['4', '2012', '02', 'Suicide', '0', 'M', '64', 'White', '100', 'Home', '4']]"
      ]
     },
     "execution_count": 1,
     "metadata": {},
     "output_type": "execute_result"
    }
   ],
   "source": [
    "import csv\n",
    "\n",
    "with open('guns.csv', 'r') as f:\n",
    "    reader = csv.reader(f)\n",
    "    gun_deaths = list(reader)\n",
    "    \n",
    "gun_deaths[:5]"
   ]
  },
  {
   "cell_type": "markdown",
   "metadata": {},
   "source": [
    "### Assignment\n",
    "\n",
    "- Remove the header row from the list of lists\n",
    "- Save it to a separate list"
   ]
  },
  {
   "cell_type": "code",
   "execution_count": 2,
   "metadata": {
    "collapsed": true
   },
   "outputs": [],
   "source": [
    "gun_deaths2 = gun_deaths[1:]\n"
   ]
  },
  {
   "cell_type": "markdown",
   "metadata": {},
   "source": [
    "### Assignment\n",
    "\n",
    "- Count the number of gun deaths by year\n",
    "    - It may help to do a list comprehension to get the years\n",
    "    - Iterate over the years with a dictionary to keep count\n",
    "    \n",
    "    "
   ]
  },
  {
   "cell_type": "code",
   "execution_count": 3,
   "metadata": {},
   "outputs": [
    {
     "data": {
      "text/plain": [
       "{'2012': 33563, '2013': 33636, '2014': 33599}"
      ]
     },
     "execution_count": 3,
     "metadata": {},
     "output_type": "execute_result"
    }
   ],
   "source": [
    "def gun_counter(data, column):\n",
    "    output = {}\n",
    "    \n",
    "    for row in data:\n",
    "        col = row[column]\n",
    "        \n",
    "        if col in output:\n",
    "            output[col] += 1\n",
    "        else:\n",
    "            output[col] = 1\n",
    "    \n",
    "    return output\n",
    "                \n",
    "year_deaths = gun_counter(gun_deaths2,1)\n",
    "\n",
    "year_deaths"
   ]
  },
  {
   "cell_type": "markdown",
   "metadata": {},
   "source": [
    "### Assignment\n",
    "\n",
    "- Import the datetime library\n",
    "- Create a new list called \"dates\" with values from the data (set all the day values to 1)    \n",
    "- Count they number of gun deaths by month and year\n",
    "\n"
   ]
  },
  {
   "cell_type": "code",
   "execution_count": 4,
   "metadata": {
    "scrolled": false
   },
   "outputs": [
    {
     "data": {
      "text/plain": [
       "[datetime.date(2012, 1, 1),\n",
       " datetime.date(2012, 1, 1),\n",
       " datetime.date(2012, 1, 1),\n",
       " datetime.date(2012, 2, 1),\n",
       " datetime.date(2012, 2, 1)]"
      ]
     },
     "execution_count": 4,
     "metadata": {},
     "output_type": "execute_result"
    }
   ],
   "source": [
    "import datetime as dt\n",
    "\n",
    "dates = []\n",
    "\n",
    "for row in gun_deaths2:\n",
    "    year = int(row[1])\n",
    "    month = int(row[2])\n",
    "    dates.append(dt.date(year, month, 1))\n",
    "\n",
    "dates[:5]\n",
    "\n",
    "    \n",
    "\n",
    "\n"
   ]
  },
  {
   "cell_type": "markdown",
   "metadata": {},
   "source": [
    "### Assignment\n",
    "\n",
    "- Find the number of gun deaths by Sex\n",
    "- Find the number of gun deaths by Race\n",
    "- How does this compare to the overall population in the US?"
   ]
  },
  {
   "cell_type": "code",
   "execution_count": 5,
   "metadata": {},
   "outputs": [
    {
     "name": "stdout",
     "output_type": "stream",
     "text": [
      "{'M': 86349, 'F': 14449}\n",
      "{'Asian/Pacific Islander': 1326, 'White': 66237, 'Native American/Native Alaskan': 917, 'Black': 23296, 'Hispanic': 9022}\n",
      "{'M': 0.8566539018631322, 'F': 0.1433460981368678}\n",
      "{'Asian/Pacific Islander': 0.01315502291712137, 'White': 0.6571261334550289, 'Native American/Native Alaskan': 0.009097402726244569, 'Black': 0.23111569674001467, 'Hispanic': 0.0895057441615905}\n"
     ]
    }
   ],
   "source": [
    "sex_deaths = gun_counter(gun_deaths2,5)\n",
    "print(sex_deaths)\n",
    "\n",
    "race_deaths = gun_counter(gun_deaths2,7)\n",
    "print(race_deaths)\n",
    "\n",
    "#this function also seems to be changing the base data when run, haven't been able to figure out why\n",
    "def p_calculator(data):\n",
    "    output = data\n",
    " \n",
    "    for key in output:\n",
    "        output[key] = data[key]/len(gun_deaths2)\n",
    "        \n",
    "    return output\n",
    "\n",
    "sex_p = p_calculator(sex_deaths)\n",
    "print(sex_p)\n",
    "\n",
    "race_p = p_calculator(race_deaths)\n",
    "print(race_p)\n"
   ]
  },
  {
   "cell_type": "markdown",
   "metadata": {},
   "source": [
    "### Assignment\n",
    "\n",
    "- Reuse the data structure counting deaths by race\n",
    "- Use the dictionary below that has the actual population of each race\n",
    "- Compute the rates of gun deaths per race per 100,000 people\n",
    "\n",
    "mapping = {\n",
    "    \"Asian/Pacific Islander\": 15159516 + 674625,\n",
    "    \"Native American/Native Alaskan\": 3739506,\n",
    "    \"Black\": 40250635,\n",
    "    \"Hispanic\": 44618105,\n",
    "    \"White\": 197318956\n",
    "}"
   ]
  },
  {
   "cell_type": "code",
   "execution_count": 6,
   "metadata": {},
   "outputs": [
    {
     "name": "stdout",
     "output_type": "stream",
     "text": [
      "{'Asian/Pacific Islander': 1326, 'White': 66237, 'Native American/Native Alaskan': 917, 'Black': 23296, 'Hispanic': 9022}\n"
     ]
    },
    {
     "data": {
      "text/plain": [
       "{'Asian/Pacific Islander': 8.374309664161762,\n",
       " 'Black': 57.8773477735196,\n",
       " 'Hispanic': 20.220491210910907,\n",
       " 'Native American/Native Alaskan': 24.521955573811088,\n",
       " 'White': 33.56849303419181}"
      ]
     },
     "execution_count": 6,
     "metadata": {},
     "output_type": "execute_result"
    }
   ],
   "source": [
    "pop = { \"Asian/Pacific Islander\": 15159516 + 674625, \"Native American/Native Alaskan\": 3739506, \"Black\": 40250635, \"Hispanic\": 44618105, \"White\": 197318956 }\n",
    "\n",
    "race_deaths = gun_counter(gun_deaths2,7)\n",
    "print(race_deaths)\n",
    "\n",
    "death_rate = {}\n",
    "for key in race_deaths:\n",
    "    death_rate[key] = (race_deaths[key]/pop[key])*100000\n",
    "\n",
    "death_rate\n",
    "    \n"
   ]
  },
  {
   "cell_type": "raw",
   "metadata": {},
   "source": [
    "### Assignment\n",
    "\n",
    "You may not know this, but over half of all gun deaths are suicide.\n",
    "\n",
    "- Redo the computation of rates of gun deaths per race per 100,000 people\n",
    "- This time only count those that are \"Homicide\"\n",
    "- How are these different than the previous calculation?\n"
   ]
  },
  {
   "cell_type": "code",
   "execution_count": 7,
   "metadata": {},
   "outputs": [
    {
     "data": {
      "text/plain": [
       "[['15', '2012', '03', 'Homicide', '0', 'M', '27', 'White', '100', 'Home', '2'],\n",
       " ['19',\n",
       "  '2012',\n",
       "  '03',\n",
       "  'Homicide',\n",
       "  '0',\n",
       "  'M',\n",
       "  '31',\n",
       "  'Asian/Pacific Islander',\n",
       "  '100',\n",
       "  'Home',\n",
       "  '3'],\n",
       " ['23', '2012', '04', 'Homicide', '0', 'F', '47', 'Black', '100', 'Home', '2'],\n",
       " ['25',\n",
       "  '2012',\n",
       "  '04',\n",
       "  'Homicide',\n",
       "  '0',\n",
       "  'M',\n",
       "  '51',\n",
       "  'White',\n",
       "  '100',\n",
       "  'Other specified',\n",
       "  '2'],\n",
       " ['26',\n",
       "  '2012',\n",
       "  '04',\n",
       "  'Homicide',\n",
       "  '0',\n",
       "  'M',\n",
       "  '41',\n",
       "  'White',\n",
       "  '100',\n",
       "  'Other specified',\n",
       "  '2']]"
      ]
     },
     "execution_count": 7,
     "metadata": {},
     "output_type": "execute_result"
    }
   ],
   "source": [
    "homicide_death = []\n",
    "\n",
    "for row in gun_deaths2:\n",
    "    if row[3] == 'Homicide':\n",
    "        homicide_death.append(row)\n",
    "    \n",
    "homicide_death[:5]\n",
    "\n",
    "\n",
    "\n"
   ]
  },
  {
   "cell_type": "code",
   "execution_count": 9,
   "metadata": {},
   "outputs": [
    {
     "name": "stderr",
     "output_type": "stream",
     "text": [
      "IOPub data rate exceeded.\n",
      "The notebook server will temporarily stop sending output\n",
      "to the client in order to avoid crashing it.\n",
      "To change this limit, set the config variable\n",
      "`--NotebookApp.iopub_data_rate_limit`.\n"
     ]
    }
   ],
   "source": [
    "race_homicide = gun_counter(homicide_death,7)\n",
    "print(homicide_death)\n",
    "\n",
    "homicide_rate = {}\n",
    "for key in race_homicide:\n",
    "    homicide_rate[key] = (race_homicide[key]/pop[key])*100000\n",
    "\n",
    "print(homicide_rate)\n",
    "\n",
    "p_homicide = {}\n",
    "for key in homicide_rate:\n",
    "    p_homicide[key] = death_rate[key]/homicide_rate[key]\n",
    "    \n",
    "print(p_homicide)"
   ]
  },
  {
   "cell_type": "code",
   "execution_count": null,
   "metadata": {
    "collapsed": true
   },
   "outputs": [],
   "source": []
  }
 ],
 "metadata": {
  "anaconda-cloud": {},
  "kernelspec": {
   "display_name": "Python 3",
   "language": "python",
   "name": "python3"
  },
  "language_info": {
   "codemirror_mode": {
    "name": "ipython",
    "version": 3
   },
   "file_extension": ".py",
   "mimetype": "text/x-python",
   "name": "python",
   "nbconvert_exporter": "python",
   "pygments_lexer": "ipython3",
   "version": "3.6.1"
  }
 },
 "nbformat": 4,
 "nbformat_minor": 1
}
